{
 "cells": [
  {
   "cell_type": "code",
   "execution_count": 1,
   "id": "9a5c4950",
   "metadata": {},
   "outputs": [
    {
     "data": {
      "text/plain": [
       "1"
      ]
     },
     "execution_count": 1,
     "metadata": {},
     "output_type": "execute_result"
    }
   ],
   "source": [
    "plaintext = b\"Thinking In Bytes\"\n",
    "len(plaintext) % 16"
   ]
  },
  {
   "cell_type": "code",
   "execution_count": null,
   "id": "91c78d8c",
   "metadata": {},
   "outputs": [
    {
     "ename": "SyntaxError",
     "evalue": "invalid syntax (797491299.py, line 1)",
     "output_type": "error",
     "traceback": [
      "\u001b[0;36m  Cell \u001b[0;32mIn[2], line 1\u001b[0;36m\u001b[0m\n\u001b[0;31m    To determine which value to use for padding, the formula would look like this:\u001b[0m\n\u001b[0m       ^\u001b[0m\n\u001b[0;31mSyntaxError\u001b[0m\u001b[0;31m:\u001b[0m invalid syntax\n"
     ]
    }
   ],
   "source": [
    "# To determine which value to use for padding, the formula would look like this:\n",
    "\n",
    "BLOCKSIZE = 16\n",
    "plaintext = b\"Thinking In Bytes\"\n",
    "padding = BLOCKSIZE - len(plaintext) % BLOCKSIZE"
   ]
  },
  {
   "cell_type": "code",
   "execution_count": null,
   "id": "1ddc120d",
   "metadata": {},
   "outputs": [],
   "source": []
  }
 ],
 "metadata": {
  "kernelspec": {
   "display_name": "pt",
   "language": "python",
   "name": "python3"
  },
  "language_info": {
   "codemirror_mode": {
    "name": "ipython",
    "version": 3
   },
   "file_extension": ".py",
   "mimetype": "text/x-python",
   "name": "python",
   "nbconvert_exporter": "python",
   "pygments_lexer": "ipython3",
   "version": "3.10.16"
  }
 },
 "nbformat": 4,
 "nbformat_minor": 5
}
